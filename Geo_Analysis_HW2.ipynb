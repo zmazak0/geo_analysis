{
  "nbformat": 4,
  "nbformat_minor": 0,
  "metadata": {
    "colab": {
      "name": "Geo Analysis HW2 .ipynb",
      "provenance": [],
      "collapsed_sections": []
    },
    "kernelspec": {
      "display_name": "Python 3",
      "language": "python",
      "name": "python3"
    },
    "language_info": {
      "codemirror_mode": {
        "name": "ipython",
        "version": 3
      },
      "file_extension": ".py",
      "mimetype": "text/x-python",
      "name": "python",
      "nbconvert_exporter": "python",
      "pygments_lexer": "ipython3",
      "version": "3.8.3"
    }
  },
  "cells": [
    {
      "cell_type": "code",
      "metadata": {
        "id": "mp4Go3bvdU-T"
      },
      "source": [
        "pip install geopandas"
      ],
      "execution_count": null,
      "outputs": []
    },
    {
      "cell_type": "code",
      "metadata": {
        "id": "qV6of90JoVeY"
      },
      "source": [
        "pip install Shapely "
      ],
      "execution_count": null,
      "outputs": []
    },
    {
      "cell_type": "code",
      "metadata": {
        "id": "ODQDFGDT6uct"
      },
      "source": [
        "pip install OSMPythonTools"
      ],
      "execution_count": null,
      "outputs": []
    },
    {
      "cell_type": "code",
      "metadata": {
        "id": "TtIUNt1HTUkz"
      },
      "source": [
        "pip install openrouteservice"
      ],
      "execution_count": null,
      "outputs": []
    },
    {
      "cell_type": "code",
      "metadata": {
        "id": "5bj-_pDBDTHK"
      },
      "source": [
        "pip install pyproj"
      ],
      "execution_count": null,
      "outputs": []
    },
    {
      "cell_type": "code",
      "metadata": {
        "id": "ToM9dBNW6yzi"
      },
      "source": [
        "import os\n",
        "import folium\n",
        "import json \n",
        "import geopandas as gpd"
      ],
      "execution_count": null,
      "outputs": []
    },
    {
      "cell_type": "code",
      "metadata": {
        "id": "c1Qjsdou6aQm"
      },
      "source": [
        "import shapely\n",
        "from shapely.geometry import Point\n",
        "from shapely.geometry import Polygon\n",
        "\n",
        "from OSMPythonTools.overpass import overpassQueryBuilder, Overpass\n",
        "from OSMPythonTools.nominatim import Nominatim"
      ],
      "execution_count": null,
      "outputs": []
    },
    {
      "cell_type": "markdown",
      "metadata": {
        "id": "Ls1OIMVdWhx6"
      },
      "source": [
        "# Анализ пространственных данных. Домашнее задание №2"
      ]
    },
    {
      "cell_type": "markdown",
      "metadata": {
        "id": "b_q5o2h4Whx-"
      },
      "source": [
        "Мягкий дедлайн: __4 ноября 2020 г. 23:59__\n",
        "\n",
        "Жесткий дедлайн (со штрафом в _50%_ от количества набранных вами за ДЗ баллов): __5 ноября 2020 г. 08:59__"
      ]
    },
    {
      "cell_type": "markdown",
      "metadata": {
        "id": "7fg3pTZIWhx_"
      },
      "source": [
        "Визуализация \"чего-либо\" __без__ выполненного основного задания оценивается в __0 баллов__"
      ]
    },
    {
      "cell_type": "markdown",
      "metadata": {
        "id": "dt4SefGiWhyB"
      },
      "source": [
        "ФИО: `Мартиросян Завен Карапетович`"
      ]
    },
    {
      "cell_type": "markdown",
      "metadata": {
        "id": "LVnL0obEWhyC"
      },
      "source": [
        "Группа: `DS 11`"
      ]
    },
    {
      "cell_type": "markdown",
      "metadata": {
        "id": "YQ2Vy9vAWhyE"
      },
      "source": [
        "## Задание №1. Горячая точка (алгоритм - 10 баллов, визуализация - 10 баллов)."
      ]
    },
    {
      "cell_type": "markdown",
      "metadata": {
        "id": "vQHMLBRDWhyG"
      },
      "source": [
        "Генерируйте рандомные точки на планете Земля до тех пор, пока не попадете на территорию ``Афганистана``"
      ]
    },
    {
      "cell_type": "markdown",
      "metadata": {
        "id": "MeteangFWhyH"
      },
      "source": [
        "1. Вы можете использовать функции принадлжености точки полигону и расстояния от точки до полигона (в метрах)\n",
        "2. Предложите не наивный алгоритм поиска (генерировать __напрямую__ точку из полигона границ Афганистана __запрещено__)"
      ]
    },
    {
      "cell_type": "code",
      "metadata": {
        "id": "oKUZCCz2Uezg"
      },
      "source": [
        "!wget https://www.dropbox.com/s/w0t3944ljho8j1y/poly_afg.txt ## скачиваем подготовленный файл с полигоном Афганистана"
      ],
      "execution_count": null,
      "outputs": []
    },
    {
      "cell_type": "code",
      "metadata": {
        "id": "KwC9J_enWhyJ"
      },
      "source": [
        "# Чтение файла и подготовка GDF  для дальнейшей визуализации\n",
        "f = open(\"/content/poly_afg.txt\")\n",
        "\n",
        "afg_pol = []\n",
        "while f.readline():\n",
        "  coords = f.readline().split()\n",
        "  afg_pol.append(Point(float(coords[0]), float(coords[1])))\n",
        "afg_pol = Polygon(afg_pol)\n",
        "\n",
        "gdf = gpd.GeoSeries(afg_pol, crs = \"EPSG:4326\")"
      ],
      "execution_count": null,
      "outputs": []
    },
    {
      "cell_type": "code",
      "metadata": {
        "id": "s8uxRCLTNtFf"
      },
      "source": [
        "#Визаулизация полигона\n",
        "m = folium.Map(\n",
        "    location = afg_pol.centroid.coords[:][0][::-1],\n",
        "    zoom_start = 2\n",
        ")\n",
        "folium.GeoJson(gdf.geometry).add_to(m)\n",
        "folium.LayerControl().add_to(m)\n",
        "m"
      ],
      "execution_count": null,
      "outputs": []
    },
    {
      "cell_type": "code",
      "metadata": {
        "id": "MrLA0SABN07C"
      },
      "source": [
        "import random\n",
        "import time\n",
        "\n",
        "random.seed(21)           # воспроизводимость\n",
        "\n",
        "m = folium.Map(\n",
        "    location =  [45, -10],\n",
        "    zoom_start = 3\n",
        ")\n",
        "folium.GeoJson(gdf.geometry).add_to(m)\n",
        "folium.LayerControl().add_to(m)\n",
        "\n",
        "x_min, y_min = -180, -180 # изначальная граница - весь мир\n",
        "x_max, y_max = 180, 180   # изначальная граница - весь мир\n",
        "\n",
        "new_x = random.uniform(x_min, x_max)\n",
        "new_y = random.uniform(y_min, y_max)\n",
        "\n",
        "new_point = Point(new_x, new_y)\n",
        "my_icon = folium.map.Icon(color = 'black')\n",
        "folium.Marker(location=[new_y, new_x],icon = my_icon, tooltip = str(0)).add_to(m)\n",
        "my_colors  = ['black','black','darkred','darkred','darkred', 'darkblue','darkblue', 'darkblue', 'darkgreen','darkgreen','darkgreen',\n",
        "              'blue','blue','blue','blue','lightred','lightred','lightred','beige','beige','beige','lightgreen']\n",
        "i = 0\n",
        "while afg_pol.contains(new_point) == False:\n",
        "\n",
        "  if x_min / 2  < afg_pol.centroid.coords[0][0]:\n",
        "    x_min = x_min / 2\n",
        "\n",
        "  if x_max / 2  > afg_pol.centroid.coords[0][0]:\n",
        "    x_max = x_max / 2\n",
        "\n",
        "  if y_min / 2  < afg_pol.centroid.coords[0][1]:\n",
        "    y_min = y_min / 2\n",
        "  if y_max / 2  > afg_pol.centroid.coords[0][1]:\n",
        "    y_max = y_max / 2\n",
        "  \n",
        "  new_x = random.uniform(x_min, x_max)\n",
        "  new_y = random.uniform(y_min, y_max)\n",
        "  new_point = Point(new_x, new_y)\n",
        "  my_icon = folium.map.Icon(color = my_colors[i])\n",
        "  folium.Marker(location=[new_y, new_x], icon = my_icon, tooltip = str(i+1), popup = str(i+1)).add_to(m)\n",
        "  i = i + 1 "
      ],
      "execution_count": null,
      "outputs": []
    },
    {
      "cell_type": "code",
      "metadata": {
        "id": "VJA7z93jN6N4"
      },
      "source": [
        "m # При наведениии на маркер на вслывающем окошке написан номер по порядку появления данного маркера. По цветам - более темные маркеры появились раньше более светлых."
      ],
      "execution_count": null,
      "outputs": []
    },
    {
      "cell_type": "markdown",
      "metadata": {
        "id": "8Mjg4PNXWhyR"
      },
      "source": [
        "Визуализируйте пошагово предложенный алгоритм при помощи ``Folium``"
      ]
    },
    {
      "cell_type": "markdown",
      "metadata": {
        "id": "mQLBzkq-WhyS"
      },
      "source": [
        "## Задание №2. Качество жизни (20 баллов)."
      ]
    },
    {
      "cell_type": "markdown",
      "metadata": {
        "id": "T6_zAdaPWhyT"
      },
      "source": [
        "Для измерения показателя качества жизни в точке, найденной в предыдущем задании, вам необходимо рассчитать следующую сумму расстояний (в метрах):"
      ]
    },
    {
      "cell_type": "markdown",
      "metadata": {
        "id": "qd4MoDGXWhyV"
      },
      "source": [
        "1. Расстояние от точки до 5 ближайших __*__ банкоматов, находящихся в стране с наибольшим количеством объектов жилой недвижимости\n",
        "2. Расстояние от точки до 5 ближайших школ, находящихся в стране с наибольшим количеством аптек в столице\n",
        "3. Расстояние от точки до 5 ближайших кинотеатров, наодящихся в стране с самым большим отношением числа железнодорожных станций к автобусным остановкам в южной части __**__"
      ]
    },
    {
      "cell_type": "markdown",
      "metadata": {
        "id": "JbN9gFEJWhyX"
      },
      "source": [
        "__*__ При поиске _N_ ближайших объектов обязательно использовать ``R-tree``\n",
        "\n",
        "__**__ Южной частью страны является территория, находящаяся к югу от множества точек, равноудаленных от самой северной и самой южной точек страны"
      ]
    },
    {
      "cell_type": "markdown",
      "metadata": {
        "id": "phgdggGDWhyf"
      },
      "source": [
        "## Задание №3. Поездка по Нью-Йорку (маршрут - 20 баллов, визуализация - 10 баллов)."
      ]
    },
    {
      "cell_type": "markdown",
      "metadata": {
        "id": "I2A0nP7TWhyh"
      },
      "source": [
        "Добраться __на автомобиле__ от входа в ``Central Park`` __Нью-Йорка__ (со стороны ``5th Avenue``) до пересечения ``Water Street`` и ``Washington Street`` в Бруклине (откуда получаются лучшие фото Манхэттенского моста) довольно непросто - разумеется, из-за вечных пробок. Однако еще сложнее это сделать, проезжая мимо школ, где дети то и дело переходят дорогу в неположенном месте."
      ]
    },
    {
      "cell_type": "markdown",
      "metadata": {
        "id": "mNEG6u57Whyi"
      },
      "source": [
        "Вам необходимо построить описанный выше маршрут, избегая на своем пути школы. Визуализируйте данный маршрут (также добавив школы и недоступные для проезда участки дорог) при помощи ``Folium``"
      ]
    },
    {
      "cell_type": "markdown",
      "metadata": {
        "id": "hIRShEA0Whyj"
      },
      "source": [
        "Данные о расположении школ Нью-Йорка можно найти [здесь](https://catalog.data.gov/dataset/2019-2020-school-point-locations)"
      ]
    },
    {
      "cell_type": "code",
      "metadata": {
        "id": "qtg_zSRMWhyl"
      },
      "source": [
        "import json\n",
        "import requests\n",
        "\n",
        "import folium\n",
        "import pyproj\n",
        "from pyproj import Transformer\n",
        "from shapely import geometry\n",
        "from shapely.geometry import Point, LineString, Polygon, MultiPolygon\n",
        "from functools import partial\n",
        "from pyproj import Proj, transform\n",
        "from pyproj import CRS\n",
        "from openrouteservice import client"
      ],
      "execution_count": null,
      "outputs": []
    },
    {
      "cell_type": "code",
      "metadata": {
        "id": "lud6y3PCTR9Z"
      },
      "source": [
        "url = 'https://data.cityofnewyork.us/api/views/a3nt-yts4/rows.json'\n",
        "\n",
        "def CreateBufferPolygon(point_in, resolution=10, radius=10):\n",
        "\n",
        "    sr_wgs = pyproj.Proj(init='epsg:4326')\n",
        "    sr_utm = pyproj.Proj(init='epsg:32632')\n",
        "    point_in_proj = pyproj.transform(sr_wgs, sr_utm, *point_in)\n",
        "    point_buffer_proj = Point(point_in_proj).buffer(radius, resolution=resolution)\n",
        "\n",
        "    # Перебраем все точки в буфере и строим полигон\n",
        "    poly_wgs = []\n",
        "    for point in point_buffer_proj.exterior.coords:\n",
        "        poly_wgs.append(pyproj.transform(sr_utm, sr_wgs, *point)) # Преобразуем обратно в WGS84\n",
        "\n",
        "    return poly_wgs"
      ],
      "execution_count": null,
      "outputs": []
    },
    {
      "cell_type": "code",
      "metadata": {
        "id": "qWux2sMVAAJb"
      },
      "source": [
        "# (опционально) - игнорируем замечания при выполнении кода в Colab\n",
        "import warnings\n",
        "warnings.filterwarnings('ignore')"
      ],
      "execution_count": null,
      "outputs": []
    },
    {
      "cell_type": "code",
      "metadata": {
        "colab": {
          "background_save": true
        },
        "id": "9VTeRgkNTcSF"
      },
      "source": [
        "api_key = '5b3ce3597851110001cf6248310884f9dd72498d96b00421fe1d2e0b' # Api key\n",
        "clnt = client.Client(key = api_key) # создаем клиента\n",
        "new_york_schools_json = requests.get(url).json() \n",
        "\n",
        "map_params = {'tiles': 'Stamen Terrain',\n",
        "              'location': ([40.734425, -73.98094]),\n",
        "              'zoom_start': 11}\n",
        "map1 = folium.Map(**map_params)\n",
        "\n",
        "site_coords = []\n",
        "sites_poly = []\n",
        "\n",
        "# Заполнить список полигонов школ\n",
        "for school in new_york_schools_json[\"data\"]:\n",
        "    coord_y_x = school[8].split()\n",
        "    site_coords.append([float(coord_y_x[1].strip(\"()\")),\n",
        "                        float(coord_y_x[2].strip(\"()\"))])\n",
        "\n",
        "\n",
        "for coords in site_coords:\n",
        "    folium.features.Marker(list(reversed(coords)),\n",
        "                           popup = 'School point<br>{0}'.format(coords)).add_to(map1)\n",
        "\n",
        "    # Создание буферных полигонов вокруг школ\n",
        "    site_poly_coords = CreateBufferPolygon(coords,\n",
        "                                           resolution = 4,\n",
        "                                           radius = 100)\n",
        "    folium.vector_layers.Polygon(site_poly_coords).add_to(map1)\n",
        "    sites_poly.append(site_poly_coords)\n",
        "\n",
        "    site_poly_coords = [(y, x) for x, y in site_poly_coords]\n",
        "    folium.vector_layers.Polygon(locations = site_poly_coords,\n",
        "                                 color = '#ffd699',\n",
        "                                 fill_color = '#ffd699',\n",
        "                                 fill_opacity = 0.2,\n",
        "                                 weight = 3).add_to(map1)\n",
        "map1 # карта со всеми школами"
      ],
      "execution_count": null,
      "outputs": []
    },
    {
      "cell_type": "code",
      "metadata": {
        "colab": {
          "background_save": true
        },
        "id": "TOKrZGGaTtEq"
      },
      "source": [
        "# Стиль для Geo_json'a\n",
        "def style_function(color):\n",
        "    return lambda feature: dict(color = color, weight = 3, opacity = 0.5)\n",
        "\n",
        "\n",
        "map_params.update({ 'tiles': 'Stamen Terrain',\n",
        "                    'location': ([40.734425, -73.98094]),\n",
        "                    'zoom_start': 13})\n",
        "\n",
        "# инициализация новой карты\n",
        "map2 = folium.Map(**map_params)\n",
        "\n",
        "coordinates_param = [[-73.97257, 40.76518],\n",
        "                     [-73.9895824, 40.7031877]]\n",
        " \n",
        "request_params = {'coordinates': coordinates_param,\n",
        "                'format_out': 'geojson',\n",
        "                'profile': 'driving-car',\n",
        "                'preference': 'shortest',\n",
        "                'instructions': 'false',}\n",
        "\n",
        "route_normal = clnt.directions(**request_params)\n",
        "folium.features.GeoJson(data = route_normal,\n",
        "                        name = 'Route',\n",
        "                        style_function = style_function('#FF0000'),\n",
        "                        overlay = True).add_to(map2)\n",
        "map2 # базовый маршрут"
      ],
      "execution_count": null,
      "outputs": []
    },
    {
      "cell_type": "code",
      "metadata": {
        "colab": {
          "background_save": true
        },
        "id": "90yIlIHxY9r6"
      },
      "source": [
        "# Буферный маршрут\n",
        "route_buffer = LineString(route_normal['features'][0]['geometry']['coordinates']).buffer(0.12)\n",
        "\n",
        "sites_buffer_poly = []\n",
        "# Строим карту со школами, которые попадают в буферный полигон\n",
        "for site_poly in sites_poly:\n",
        "    poly = Polygon(site_poly)\n",
        "    if route_buffer.intersects(poly):\n",
        "        folium.features.Marker(list(reversed(poly.centroid.coords[0]))).add_to(map2)\n",
        "        folium.vector_layers.PolyLine(site_poly).add_to(map2)\n",
        "        folium.vector_layers.Polygon(site_poly,\n",
        "                                 color = '#dddd00',\n",
        "                                 fill_color = '#dddd00',\n",
        "                                 fill_opacity = 0.8,\n",
        "                                 weight = 5).add_to(map2)\n",
        "        sites_buffer_poly.append(poly)\n",
        "map2 #школы которые попвдвют в нашу буф. зону"
      ],
      "execution_count": null,
      "outputs": []
    },
    {
      "cell_type": "code",
      "metadata": {
        "colab": {
          "background_save": true
        },
        "id": "kDY-eDBQs0jQ"
      },
      "source": [
        "request_params['options'] = {'avoid_polygons': geometry.mapping(MultiPolygon(sites_buffer_poly))} #избегаем школы (+буффер), которые изображены выше\n",
        "route_detour = clnt.directions(**request_params)\n",
        "\n",
        "folium.features.GeoJson(data=route_detour, # маршрут в объезд школ\n",
        "                        name='Route without schools',\n",
        "                        style_function=style_function('#00FF00'),\n",
        "                        overlay=True).add_to(map2)\n",
        "\n",
        "map2.add_child(folium.map.LayerControl())\n",
        "\n",
        "\n",
        "map2 # оптимизированный маршут в объезд школ\n",
        "# В зависимости от школ, которые попали в список на \"объезд\" маршрут может получиться разный. \n",
        "\n",
        "# Красный маршрут - базовый, зеленый - в объезд полигонов школ. \n",
        "# При приближении карты можно заметить, что школы находятся на необходимом расстояниии от зеленого маршрута"
      ],
      "execution_count": null,
      "outputs": []
    }
  ]
}