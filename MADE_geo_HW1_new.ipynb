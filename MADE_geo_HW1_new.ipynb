{
  "nbformat": 4,
  "nbformat_minor": 0,
  "metadata": {
    "kernelspec": {
      "display_name": "Python 3",
      "language": "python",
      "name": "python3"
    },
    "language_info": {
      "codemirror_mode": {
        "name": "ipython",
        "version": 3
      },
      "file_extension": ".py",
      "mimetype": "text/x-python",
      "name": "python",
      "nbconvert_exporter": "python",
      "pygments_lexer": "ipython3",
      "version": "3.8.3"
    },
    "colab": {
      "name": "MADE geo HW1 new",
      "provenance": [],
      "collapsed_sections": []
    }
  },
  "cells": [
    {
      "cell_type": "markdown",
      "metadata": {
        "id": "g951jl9jwwuG"
      },
      "source": [
        "# Анализ пространственных данных. Домашнее задание №1"
      ]
    },
    {
      "cell_type": "markdown",
      "metadata": {
        "id": "DD3Pb4shwwuI"
      },
      "source": [
        "Данные для выполнения заданий можно найти [здесь](https://yadi.sk/d/xBemeb0ODlhCAQ?w=1)\n",
        "\n",
        "Дедлайн: __20 октября 2020 г. 09:00__"
      ]
    },
    {
      "cell_type": "markdown",
      "metadata": {
        "id": "82AOjxvBwwuL"
      },
      "source": [
        "ФИО: Мартиросян Завен Карапетович"
      ]
    },
    {
      "cell_type": "markdown",
      "metadata": {
        "id": "y_kW8-5bwwuN"
      },
      "source": [
        "Группа:  MADE-DS-12"
      ]
    },
    {
      "cell_type": "markdown",
      "metadata": {
        "id": "vWok4-BewwuO"
      },
      "source": [
        "## Задание №1. Reading coordinates from a file and creating a geometries. 4 балла."
      ]
    },
    {
      "cell_type": "markdown",
      "metadata": {
        "id": "kEzYafOiwwuQ"
      },
      "source": [
        "One of the \"classical\" problems in GIS is the situation where you have a set of coordinates in a file and you need to get them into a map (or into a GIS-software). Dataset `travelTimes_2015_Helsinki.txt` consist of travel times between specific locations in Helsinki Region."
      ]
    },
    {
      "cell_type": "markdown",
      "metadata": {
        "id": "qLMfyoyswwuS"
      },
      "source": [
        "1. Read the data into memory.\n",
        "2. Read 4 columns `from_x`, `from_y`, `to_x`, `to_y` from the data.\n",
        "3. Create two lists called __orig_points__ and __dest_points__\n",
        "4. Iterate over the rows of your numpy array and add Shapely Point -objects into the __orig_points__ -list and __dest_point__ -list representing the origin locations and destination locations accordingly."
      ]
    },
    {
      "cell_type": "markdown",
      "metadata": {
        "id": "5gBc9jdcwwuU"
      },
      "source": [
        "`from_x`: x-coordinate of the __origin__ location (longitude)\n",
        "\n",
        "`from_y`: y-coordinate of the __origin__ location (latitude)\n",
        "\n",
        "`to_x`: x-coordinate of the __destination__ location (longitude)\n",
        "\n",
        "`to_y`: y-coordinate of the __destination__ location (latitude)"
      ]
    },
    {
      "cell_type": "code",
      "metadata": {
        "id": "Hew5dZUiypZi"
      },
      "source": [
        "import pandas as pd\n",
        "data=pd.read_csv(\"/content/travelTimes_2015_Helsinki.txt\", sep = \";\")"
      ],
      "execution_count": 1,
      "outputs": []
    },
    {
      "cell_type": "code",
      "metadata": {
        "id": "ox2Jab7r0e0i"
      },
      "source": [
        "from_x = data.from_x.values   #longtitude\n",
        "from_y  = data.from_y.values  #latitude\n",
        "to_x = data.to_x\n",
        "to_y = data.to_y "
      ],
      "execution_count": 2,
      "outputs": []
    },
    {
      "cell_type": "code",
      "metadata": {
        "id": "fhHl4UfRzvNj"
      },
      "source": [
        "orig_points = []\n",
        "dest_points = []"
      ],
      "execution_count": 3,
      "outputs": []
    },
    {
      "cell_type": "code",
      "metadata": {
        "id": "hvGchyvv1oN2"
      },
      "source": [
        "pip install Shapely "
      ],
      "execution_count": null,
      "outputs": []
    },
    {
      "cell_type": "code",
      "metadata": {
        "id": "0e5sh1p2zvPy"
      },
      "source": [
        "from shapely.geometry import Point"
      ],
      "execution_count": 5,
      "outputs": []
    },
    {
      "cell_type": "code",
      "metadata": {
        "id": "YN29F2fmzvJD"
      },
      "source": [
        "for i in range(len(from_x)):\n",
        "  orig_points.append(Point(from_x[i], from_y[i])) #longtitude, latitude\n",
        "  dest_points.append(Point(to_x[i], to_y[i]))"
      ],
      "execution_count": 6,
      "outputs": []
    },
    {
      "cell_type": "code",
      "metadata": {
        "id": "HRGJbGLgSdAb",
        "outputId": "e79f14d3-7d5c-4116-9f20-1e93139edbdb",
        "colab": {
          "base_uri": "https://localhost:8080/",
          "height": 35
        }
      },
      "source": [
        "print(orig_points[0])"
      ],
      "execution_count": 7,
      "outputs": [
        {
          "output_type": "stream",
          "text": [
            "POINT (24.9704379 60.3119173)\n"
          ],
          "name": "stdout"
        }
      ]
    },
    {
      "cell_type": "markdown",
      "metadata": {
        "id": "i2pA6-hxwwud"
      },
      "source": [
        "## Задание №2. Creating LineStrings that represent the movements. 6 баллов."
      ]
    },
    {
      "cell_type": "markdown",
      "metadata": {
        "id": "DWpLDf_uwwuf"
      },
      "source": [
        "Please use data from previous task:"
      ]
    },
    {
      "cell_type": "markdown",
      "metadata": {
        "id": "5UNcpQlLwwug"
      },
      "source": [
        "1. Create a list called `lines`\n",
        "2. Iterate over the __orig_points__ and __dest_points__ lists and create a Shapely _LineString_ -object between the origin and destination point\n",
        "3. Add that line into the `lines` -list.\n",
        "4. Find out what is the average (Euclidian) distance of all the origin-destination _LineStrings_ that we just created, and print it out."
      ]
    },
    {
      "cell_type": "code",
      "metadata": {
        "id": "_c6svZseAcEe"
      },
      "source": [
        "from shapely.geometry import LineString"
      ],
      "execution_count": 8,
      "outputs": []
    },
    {
      "cell_type": "code",
      "metadata": {
        "id": "8BPq6sNmwwui"
      },
      "source": [
        "lines = []"
      ],
      "execution_count": 9,
      "outputs": []
    },
    {
      "cell_type": "code",
      "metadata": {
        "id": "0xBNVmZSAFI1"
      },
      "source": [
        "for i in range(len(orig_points)):\n",
        "  lines.append(LineString([orig_points[i], dest_points[i]]))"
      ],
      "execution_count": 10,
      "outputs": []
    },
    {
      "cell_type": "code",
      "metadata": {
        "id": "Kk_mLFVwCH33",
        "outputId": "09325daf-1cfa-4599-a9f6-9316c3e6de38",
        "colab": {
          "base_uri": "https://localhost:8080/",
          "height": 35
        }
      },
      "source": [
        "sum_len=0\n",
        "for line in lines:\n",
        "  sum_len+=line.length\n",
        "print(sum_len/len(lines))"
      ],
      "execution_count": 11,
      "outputs": [
        {
          "output_type": "stream",
          "text": [
            "0.2150222482322716\n"
          ],
          "name": "stdout"
        }
      ]
    },
    {
      "cell_type": "code",
      "metadata": {
        "id": "sbdaD1O2DYkV",
        "outputId": "d4bf3444-e602-450a-e83c-305ddd733273",
        "colab": {
          "base_uri": "https://localhost:8080/",
          "height": 35
        }
      },
      "source": [
        "pip install Haversine"
      ],
      "execution_count": 12,
      "outputs": [
        {
          "output_type": "stream",
          "text": [
            "Requirement already satisfied: Haversine in /usr/local/lib/python3.6/dist-packages (2.3.0)\n"
          ],
          "name": "stdout"
        }
      ]
    },
    {
      "cell_type": "code",
      "metadata": {
        "id": "a-IDpQJnDWQv"
      },
      "source": [
        "from haversine import haversine"
      ],
      "execution_count": 13,
      "outputs": []
    },
    {
      "cell_type": "markdown",
      "metadata": {
        "id": "Wr1KbZY8TxTt"
      },
      "source": [
        "![image.png](data:image/png;base64,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)"
      ]
    },
    {
      "cell_type": "code",
      "metadata": {
        "id": "0wBu4VmrEJcn",
        "outputId": "0ac1cea1-7721-451f-eca3-c8e9dc595ed5",
        "colab": {
          "base_uri": "https://localhost:8080/",
          "height": 35
        }
      },
      "source": [
        "sum_len=0\n",
        "for line in lines:\n",
        "  sum_len+=haversine(line.coords[0][::-1], line.coords[1][::-1]) #latitude, longtitude\n",
        "print(sum_len/len(lines), 'km')"
      ],
      "execution_count": 14,
      "outputs": [
        {
          "output_type": "stream",
          "text": [
            "14.077625758316918 km\n"
          ],
          "name": "stdout"
        }
      ]
    },
    {
      "cell_type": "markdown",
      "metadata": {
        "id": "9LzbfJoewwuq"
      },
      "source": [
        "## Задание №3. Points to map. 4 балла."
      ]
    },
    {
      "cell_type": "markdown",
      "metadata": {
        "id": "4LZJ_dBOwwus"
      },
      "source": [
        "Aim is to plot a set of x and y coordinates that we should read from a `some_posts.csv`. The data has 81379 rows and consists of locations and times of social media posts inside Kruger national park in South Africa."
      ]
    },
    {
      "cell_type": "markdown",
      "metadata": {
        "id": "rxy_vLHpwwut"
      },
      "source": [
        "1. Read the data into memory.\n",
        "2. Create an empty column called `geometry` where you will store shapely _Point_ objects\n",
        "3. Iterate over the rows of the DataFrame (__x__ and __y__ -coordinates) and insert _Point_ objects into column `geometry`\n",
        "4. Convert that DataFrame into a GeoDataFrame\n",
        "5. Update the CRS for coordinate system as WGS84 (i.e. epsg code: 4326)\n",
        "6. Save the data into a Shapefile called `Kruger_posts.shp`\n",
        "7. Create a simple map of those points using .plot() -funtion"
      ]
    },
    {
      "cell_type": "markdown",
      "metadata": {
        "id": "o__JFwcowwuu"
      },
      "source": [
        "`lat`: y-coordinate of the post\n",
        "\n",
        "`lon`: x-coordinate of the post\n",
        "\n",
        "`timestamp`: Time when the post was uploaded\n",
        "\n",
        "`userid`: userid"
      ]
    },
    {
      "cell_type": "code",
      "metadata": {
        "id": "BFNyZlQ_wwuv",
        "outputId": "f72c2c24-54e5-4c8e-fe2b-914f73d79a9b",
        "colab": {
          "base_uri": "https://localhost:8080/",
          "height": 411
        }
      },
      "source": [
        "data=pd.read_csv(\"/content/some_posts.txt\", sep = \",\")\n",
        "data['geometry'] = [Point( data.loc[i].lon, data.loc[i].lat ) for i in range(len(data))] #longtitude, latitude\n",
        "data"
      ],
      "execution_count": 15,
      "outputs": [
        {
          "output_type": "execute_result",
          "data": {
            "text/html": [
              "<div>\n",
              "<style scoped>\n",
              "    .dataframe tbody tr th:only-of-type {\n",
              "        vertical-align: middle;\n",
              "    }\n",
              "\n",
              "    .dataframe tbody tr th {\n",
              "        vertical-align: top;\n",
              "    }\n",
              "\n",
              "    .dataframe thead th {\n",
              "        text-align: right;\n",
              "    }\n",
              "</style>\n",
              "<table border=\"1\" class=\"dataframe\">\n",
              "  <thead>\n",
              "    <tr style=\"text-align: right;\">\n",
              "      <th></th>\n",
              "      <th>lat</th>\n",
              "      <th>lon</th>\n",
              "      <th>timestamp</th>\n",
              "      <th>userid</th>\n",
              "      <th>geometry</th>\n",
              "    </tr>\n",
              "  </thead>\n",
              "  <tbody>\n",
              "    <tr>\n",
              "      <th>0</th>\n",
              "      <td>-24.980792</td>\n",
              "      <td>31.484633</td>\n",
              "      <td>2015-07-07 03:02</td>\n",
              "      <td>66487960</td>\n",
              "      <td>POINT (31.484633302 -24.980792492)</td>\n",
              "    </tr>\n",
              "    <tr>\n",
              "      <th>1</th>\n",
              "      <td>-25.499225</td>\n",
              "      <td>31.508906</td>\n",
              "      <td>2015-07-07 03:18</td>\n",
              "      <td>65281761</td>\n",
              "      <td>POINT (31.508905612 -25.499224667)</td>\n",
              "    </tr>\n",
              "    <tr>\n",
              "      <th>2</th>\n",
              "      <td>-24.342578</td>\n",
              "      <td>30.930866</td>\n",
              "      <td>2015-03-07 03:38</td>\n",
              "      <td>90916112</td>\n",
              "      <td>POINT (30.930866066 -24.342578456)</td>\n",
              "    </tr>\n",
              "    <tr>\n",
              "      <th>3</th>\n",
              "      <td>-24.854614</td>\n",
              "      <td>31.519718</td>\n",
              "      <td>2015-10-07 05:04</td>\n",
              "      <td>37959089</td>\n",
              "      <td>POINT (31.519718439 -24.85461393)</td>\n",
              "    </tr>\n",
              "    <tr>\n",
              "      <th>4</th>\n",
              "      <td>-24.921069</td>\n",
              "      <td>31.520836</td>\n",
              "      <td>2015-10-07 05:19</td>\n",
              "      <td>27793716</td>\n",
              "      <td>POINT (31.520835558 -24.921068894)</td>\n",
              "    </tr>\n",
              "    <tr>\n",
              "      <th>...</th>\n",
              "      <td>...</td>\n",
              "      <td>...</td>\n",
              "      <td>...</td>\n",
              "      <td>...</td>\n",
              "      <td>...</td>\n",
              "    </tr>\n",
              "    <tr>\n",
              "      <th>81374</th>\n",
              "      <td>-24.799541</td>\n",
              "      <td>31.354469</td>\n",
              "      <td>2015-09-05 02:23</td>\n",
              "      <td>90744213</td>\n",
              "      <td>POINT (31.354468659 -24.79954083)</td>\n",
              "    </tr>\n",
              "    <tr>\n",
              "      <th>81375</th>\n",
              "      <td>-25.467992</td>\n",
              "      <td>30.956033</td>\n",
              "      <td>2015-02-05 02:40</td>\n",
              "      <td>71109799</td>\n",
              "      <td>POINT (30.956033333 -25.467991667)</td>\n",
              "    </tr>\n",
              "    <tr>\n",
              "      <th>81376</th>\n",
              "      <td>-25.332223</td>\n",
              "      <td>30.997409</td>\n",
              "      <td>2015-08-05 02:40</td>\n",
              "      <td>54796261</td>\n",
              "      <td>POINT (30.997408647 -25.332223289)</td>\n",
              "    </tr>\n",
              "    <tr>\n",
              "      <th>81377</th>\n",
              "      <td>-25.508851</td>\n",
              "      <td>31.005536</td>\n",
              "      <td>2015-08-05 02:43</td>\n",
              "      <td>78762204</td>\n",
              "      <td>POINT (31.00553607 -25.508851029)</td>\n",
              "    </tr>\n",
              "    <tr>\n",
              "      <th>81378</th>\n",
              "      <td>-25.498840</td>\n",
              "      <td>31.007430</td>\n",
              "      <td>2015-04-05 02:44</td>\n",
              "      <td>32190273</td>\n",
              "      <td>POINT (31.00743 -25.49884)</td>\n",
              "    </tr>\n",
              "  </tbody>\n",
              "</table>\n",
              "<p>81379 rows × 5 columns</p>\n",
              "</div>"
            ],
            "text/plain": [
              "             lat        lon  ...    userid                            geometry\n",
              "0     -24.980792  31.484633  ...  66487960  POINT (31.484633302 -24.980792492)\n",
              "1     -25.499225  31.508906  ...  65281761  POINT (31.508905612 -25.499224667)\n",
              "2     -24.342578  30.930866  ...  90916112  POINT (30.930866066 -24.342578456)\n",
              "3     -24.854614  31.519718  ...  37959089   POINT (31.519718439 -24.85461393)\n",
              "4     -24.921069  31.520836  ...  27793716  POINT (31.520835558 -24.921068894)\n",
              "...          ...        ...  ...       ...                                 ...\n",
              "81374 -24.799541  31.354469  ...  90744213   POINT (31.354468659 -24.79954083)\n",
              "81375 -25.467992  30.956033  ...  71109799  POINT (30.956033333 -25.467991667)\n",
              "81376 -25.332223  30.997409  ...  54796261  POINT (30.997408647 -25.332223289)\n",
              "81377 -25.508851  31.005536  ...  78762204   POINT (31.00553607 -25.508851029)\n",
              "81378 -25.498840  31.007430  ...  32190273          POINT (31.00743 -25.49884)\n",
              "\n",
              "[81379 rows x 5 columns]"
            ]
          },
          "metadata": {
            "tags": []
          },
          "execution_count": 15
        }
      ]
    },
    {
      "cell_type": "code",
      "metadata": {
        "id": "JbihVaZSIZFQ"
      },
      "source": [
        "pip install geopandas"
      ],
      "execution_count": null,
      "outputs": []
    },
    {
      "cell_type": "code",
      "metadata": {
        "id": "H3TCypR5IS4Q"
      },
      "source": [
        "import pandas as pd\n",
        "import geopandas\n",
        "import matplotlib.pyplot as plt\n",
        "import seaborn"
      ],
      "execution_count": 17,
      "outputs": []
    },
    {
      "cell_type": "code",
      "metadata": {
        "id": "hAZ5rqvdIhAS"
      },
      "source": [
        "gdf = geopandas.GeoDataFrame(data)"
      ],
      "execution_count": 18,
      "outputs": []
    },
    {
      "cell_type": "code",
      "metadata": {
        "id": "ZYneckjCIslc"
      },
      "source": [
        "gdf = gdf.set_crs(epsg=4326)"
      ],
      "execution_count": 19,
      "outputs": []
    },
    {
      "cell_type": "code",
      "metadata": {
        "id": "7-RMD6-tQTGt"
      },
      "source": [
        "gdf.to_file(\"Kruger_posts.shp\")"
      ],
      "execution_count": 20,
      "outputs": []
    },
    {
      "cell_type": "code",
      "metadata": {
        "id": "yb4Y0XMWJuD4",
        "outputId": "e3d92289-1dfc-4123-8beb-c6131ea2a71e",
        "colab": {
          "base_uri": "https://localhost:8080/",
          "height": 555
        }
      },
      "source": [
        "gdf.plot(figsize=(16, 9), markersize =2)"
      ],
      "execution_count": 21,
      "outputs": [
        {
          "output_type": "execute_result",
          "data": {
            "text/plain": [
              "<matplotlib.axes._subplots.AxesSubplot at 0x7f0f654a1f28>"
            ]
          },
          "metadata": {
            "tags": []
          },
          "execution_count": 21
        },
        {
          "output_type": "display_data",
          "data": {
            "image/png": "[encoded data removed]",
            "text/plain": [
              "<Figure size 1152x648 with 1 Axes>"
            ]
          },
          "metadata": {
            "tags": [],
            "needs_background": "light"
          }
        }
      ]
    },
    {
      "cell_type": "markdown",
      "metadata": {
        "id": "XKiUvx23wwu3"
      },
      "source": [
        "## Задание №4. Movements of individual user. 6 баллов."
      ]
    },
    {
      "cell_type": "markdown",
      "metadata": {
        "id": "cMlApl89wwu5"
      },
      "source": [
        "Please use data from previous task:"
      ]
    },
    {
      "cell_type": "markdown",
      "metadata": {
        "id": "MQlXTeMqwwu6"
      },
      "source": [
        "1. Group the data by `userid`\n",
        "2. Create an empty GeoDataFrame\n",
        "3. For each user:\n",
        "   - sort the rows by `timestamp`\n",
        "   - create _LineString_ objects based on the points\n",
        "   - add the `geometry` and the `userid` into the GeoDataFrame you created in the last step\n",
        "4. Determine the CRS of your GeoDataFrame to WGS84 (epsg code: 4326)\n",
        "5. Save the movements of each user into a separate Shapefile\n",
        "   - Name the output Shapefile based on the `userid` number"
      ]
    },
    {
      "cell_type": "code",
      "metadata": {
        "id": "q7mQ72ifYiRT"
      },
      "source": [
        "data = data.sort_values(['userid','timestamp']) #sort the rows by timestamp"
      ],
      "execution_count": 22,
      "outputs": []
    },
    {
      "cell_type": "code",
      "metadata": {
        "id": "moqwR1v_wwu7",
        "outputId": "1e0758bf-b343-4d1d-ee7c-000b93770940",
        "colab": {
          "base_uri": "https://localhost:8080/",
          "height": 441
        }
      },
      "source": [
        "#group by UserID, leave only those lines with more than two unique points and put them in LineString\n",
        "new_gdf = geopandas.GeoDataFrame(data.groupby('userid').geometry.unique()[data.groupby('userid').geometry.nunique()>1].map(LineString))\n",
        "new_gdf"
      ],
      "execution_count": 23,
      "outputs": [
        {
          "output_type": "execute_result",
          "data": {
            "text/html": [
              "<div>\n",
              "<style scoped>\n",
              "    .dataframe tbody tr th:only-of-type {\n",
              "        vertical-align: middle;\n",
              "    }\n",
              "\n",
              "    .dataframe tbody tr th {\n",
              "        vertical-align: top;\n",
              "    }\n",
              "\n",
              "    .dataframe thead th {\n",
              "        text-align: right;\n",
              "    }\n",
              "</style>\n",
              "<table border=\"1\" class=\"dataframe\">\n",
              "  <thead>\n",
              "    <tr style=\"text-align: right;\">\n",
              "      <th></th>\n",
              "      <th>geometry</th>\n",
              "    </tr>\n",
              "    <tr>\n",
              "      <th>userid</th>\n",
              "      <th></th>\n",
              "    </tr>\n",
              "  </thead>\n",
              "  <tbody>\n",
              "    <tr>\n",
              "      <th>16301</th>\n",
              "      <td>LINESTRING (31.37120 -24.75951, 31.33832 -24.7...</td>\n",
              "    </tr>\n",
              "    <tr>\n",
              "      <th>50136</th>\n",
              "      <td>LINESTRING (31.39447 -24.76985, 31.59261 -24.9...</td>\n",
              "    </tr>\n",
              "    <tr>\n",
              "      <th>88775</th>\n",
              "      <td>LINESTRING (31.00036 -25.32947, 31.00036 -25.3...</td>\n",
              "    </tr>\n",
              "    <tr>\n",
              "      <th>88918</th>\n",
              "      <td>LINESTRING (31.55131 -25.06714, 31.59261 -24.9...</td>\n",
              "    </tr>\n",
              "    <tr>\n",
              "      <th>90156</th>\n",
              "      <td>LINESTRING (31.40124 -24.86016, 31.40121 -24.8...</td>\n",
              "    </tr>\n",
              "    <tr>\n",
              "      <th>...</th>\n",
              "      <td>...</td>\n",
              "    </tr>\n",
              "    <tr>\n",
              "      <th>99908614</th>\n",
              "      <td>LINESTRING (31.00256 -25.27870, 31.00270 -25.2...</td>\n",
              "    </tr>\n",
              "    <tr>\n",
              "      <th>99921781</th>\n",
              "      <td>LINESTRING (30.99990 -25.28996, 31.01139 -25.2...</td>\n",
              "    </tr>\n",
              "    <tr>\n",
              "      <th>99936874</th>\n",
              "      <td>LINESTRING (31.59255 -24.99266, 31.59228 -24.9...</td>\n",
              "    </tr>\n",
              "    <tr>\n",
              "      <th>99964140</th>\n",
              "      <td>LINESTRING (31.32247 -24.30535, 31.32247 -24.3...</td>\n",
              "    </tr>\n",
              "    <tr>\n",
              "      <th>99986933</th>\n",
              "      <td>LINESTRING (31.29333 -24.29870, 31.29908 -24.2...</td>\n",
              "    </tr>\n",
              "  </tbody>\n",
              "</table>\n",
              "<p>8234 rows × 1 columns</p>\n",
              "</div>"
            ],
            "text/plain": [
              "                                                   geometry\n",
              "userid                                                     \n",
              "16301     LINESTRING (31.37120 -24.75951, 31.33832 -24.7...\n",
              "50136     LINESTRING (31.39447 -24.76985, 31.59261 -24.9...\n",
              "88775     LINESTRING (31.00036 -25.32947, 31.00036 -25.3...\n",
              "88918     LINESTRING (31.55131 -25.06714, 31.59261 -24.9...\n",
              "90156     LINESTRING (31.40124 -24.86016, 31.40121 -24.8...\n",
              "...                                                     ...\n",
              "99908614  LINESTRING (31.00256 -25.27870, 31.00270 -25.2...\n",
              "99921781  LINESTRING (30.99990 -25.28996, 31.01139 -25.2...\n",
              "99936874  LINESTRING (31.59255 -24.99266, 31.59228 -24.9...\n",
              "99964140  LINESTRING (31.32247 -24.30535, 31.32247 -24.3...\n",
              "99986933  LINESTRING (31.29333 -24.29870, 31.29908 -24.2...\n",
              "\n",
              "[8234 rows x 1 columns]"
            ]
          },
          "metadata": {
            "tags": []
          },
          "execution_count": 23
        }
      ]
    },
    {
      "cell_type": "code",
      "metadata": {
        "id": "E0Undn_icyz5"
      },
      "source": [
        "new_gdf = new_gdf.set_crs(epsg=4326)"
      ],
      "execution_count": 24,
      "outputs": []
    },
    {
      "cell_type": "code",
      "metadata": {
        "id": "nk5H65vJggYj"
      },
      "source": [
        "#j=0\n",
        "for i in range(len(new_gdf)):\n",
        "  #j=j+1\n",
        "  #if j<2:\n",
        "    geopandas.GeoDataFrame(geometry=new_gdf.iloc[i].values).set_crs(epsg=4326).to_file(str(new_gdf.iloc[i].name)+'.shp')"
      ],
      "execution_count": 25,
      "outputs": []
    },
    {
      "cell_type": "markdown",
      "metadata": {
        "id": "B-FhSfL0wwvD"
      },
      "source": [
        "## Задание №5. Join accessibility datasets into a grid and visualize them by using a classifier. 4 балла."
      ]
    },
    {
      "cell_type": "markdown",
      "metadata": {
        "id": "MS0CPWIOwwvF"
      },
      "source": [
        "A dataset from `dataE4.zip` includes 7 text files containing data about accessibility in Helsinki Region and a Shapefile that contains a Polygon grid that can be used to visualize and analyze the data spatially. The datasets are:\n",
        "\n",
        " - `travel_times_to_[XXXXXXX]_[NAME-OF-THE-CENTER].txt` including travel times and road network distances to specific shopping center\n",
        " - `MetropAccess_YKR_grid_EurefFIN.shp` including the Polygon grid with __YKR_ID__ column that can be used to join the grid with the accessibility data\n",
        " \n",
        "Find out more about the data [here](https://blogs.helsinki.fi/accessibility/helsinki-region-travel-time-matrix-2015/)"
      ]
    },
    {
      "cell_type": "markdown",
      "metadata": {
        "id": "pfSZ7CWtwwvG"
      },
      "source": [
        "1. Read those travel_time data files (one by one) with Pandas and select only following columns from them:\n",
        "\n",
        " - `pt_r_tt`\n",
        " - `car_r_t`\n",
        " - `from_id`\n",
        " - `to_id`\n",
        "\n",
        "\n",
        "2. Visualize the classified travel times (Public transport AND Car) of at least one of the shopping centers using any classification method (see [PySAL](https://pysal.org/) for more details upon classification methods). You need to classify the data into a new column in your GeoDataFrame."
      ]
    },
    {
      "cell_type": "code",
      "metadata": {
        "id": "LgmO8RGosljI"
      },
      "source": [
        "pip install mapclassify"
      ],
      "execution_count": null,
      "outputs": []
    },
    {
      "cell_type": "code",
      "metadata": {
        "id": "Y8RHCHUIs33r"
      },
      "source": [
        "import mapclassify\n",
        "import numpy as np\n",
        "import matplotlib.pyplot as plt"
      ],
      "execution_count": 27,
      "outputs": []
    },
    {
      "cell_type": "code",
      "metadata": {
        "id": "v_8-VA5rwwvH"
      },
      "source": [
        "TT_Jumbo = pd.read_csv('/content/TravelTimes_to_5878070_Jumbo.txt', sep=';')\n",
        "TT_Jumbo = TT_Jumbo[['pt_r_tt', 'car_r_t', 'from_id', 'to_id']]\n",
        "\n",
        "TT_Dixi = pd.read_csv('/content/TravelTimes_to_5878087_Dixi.txt', sep=';')\n",
        "TT_Dixi= TT_Dixi[['pt_r_tt', 'car_r_t', 'from_id', 'to_id']]\n",
        "\n",
        "TT_Myyrmanni = pd.read_csv('/content/TravelTimes_to_5902043_Myyrmanni.txt', sep=';')\n",
        "TT_Myyrmanni = TT_Myyrmanni[['pt_r_tt', 'car_r_t', 'from_id', 'to_id']]\n",
        "\n",
        "TT_Itis = pd.read_csv('/content/TravelTimes_to_5944003_Itis.txt', sep=';')\n",
        "TT_Itis = TT_Itis[['pt_r_tt', 'car_r_t', 'from_id', 'to_id']]\n",
        "\n",
        "TT_Forum = pd.read_csv('/content/TravelTimes_to_5975373_Forum.txt', sep=';')\n",
        "TT_Forum = TT_Forum[['pt_r_tt', 'car_r_t', 'from_id', 'to_id']]\n",
        "\n",
        "TT_Iso_omena = pd.read_csv('/content/TravelTimes_to_5978593_Iso_omena.txt', sep=';')\n",
        "TT_Iso_omena = TT_Iso_omena[['pt_r_tt', 'car_r_t', 'from_id', 'to_id']]\n",
        "\n",
        "TT_Ruoholahti = pd.read_csv('/content/TravelTimes_to_5980260_Ruoholahti.txt', sep=';')\n",
        "TT_Ruoholahti = TT_Ruoholahti[['pt_r_tt', 'car_r_t', 'from_id', 'to_id']]"
      ],
      "execution_count": 28,
      "outputs": []
    },
    {
      "cell_type": "code",
      "metadata": {
        "id": "cu3sw52xtDVB"
      },
      "source": [
        "gdf = geopandas.read_file('/content/MetropAccess_YKR_grid_EurefFIN.shp')"
      ],
      "execution_count": 29,
      "outputs": []
    },
    {
      "cell_type": "code",
      "metadata": {
        "id": "ZFFKZdUw8-vY"
      },
      "source": [
        "classifier = mapclassify.Quantiles.make(k=10)"
      ],
      "execution_count": 30,
      "outputs": []
    },
    {
      "cell_type": "code",
      "metadata": {
        "id": "orYUPeYT1Cpg"
      },
      "source": [
        "TT_Jumbo_Quantiles_pt_r_tt = mapclassify.Quantiles(TT_Jumbo.pt_r_tt,k=10)\n",
        "TT_Jumbo_Quantiles_car_r_t = mapclassify.Quantiles(TT_Jumbo.car_r_t,k=10)"
      ],
      "execution_count": 31,
      "outputs": []
    },
    {
      "cell_type": "code",
      "metadata": {
        "id": "le4WZf129MKi"
      },
      "source": [
        "#classify the data into a new column in GeoDataFrame\n",
        "TT_Jumbo['pt_r_tt_classes'] = TT_Jumbo[['pt_r_tt']].apply(classifier)\n",
        "TT_Jumbo['car_r_t_classes'] = TT_Jumbo[['car_r_t']].apply(classifier)"
      ],
      "execution_count": 32,
      "outputs": []
    },
    {
      "cell_type": "code",
      "metadata": {
        "id": "6cGVv08v9YH1",
        "outputId": "b2e8fc3e-b74d-4afa-f444-79c2abdd4ccf",
        "colab": {
          "base_uri": "https://localhost:8080/",
          "height": 411
        }
      },
      "source": [
        "TT_Jumbo"
      ],
      "execution_count": 33,
      "outputs": [
        {
          "output_type": "execute_result",
          "data": {
            "text/html": [
              "<div>\n",
              "<style scoped>\n",
              "    .dataframe tbody tr th:only-of-type {\n",
              "        vertical-align: middle;\n",
              "    }\n",
              "\n",
              "    .dataframe tbody tr th {\n",
              "        vertical-align: top;\n",
              "    }\n",
              "\n",
              "    .dataframe thead th {\n",
              "        text-align: right;\n",
              "    }\n",
              "</style>\n",
              "<table border=\"1\" class=\"dataframe\">\n",
              "  <thead>\n",
              "    <tr style=\"text-align: right;\">\n",
              "      <th></th>\n",
              "      <th>pt_r_tt</th>\n",
              "      <th>car_r_t</th>\n",
              "      <th>from_id</th>\n",
              "      <th>to_id</th>\n",
              "      <th>pt_r_tt_classes</th>\n",
              "      <th>car_r_t_classes</th>\n",
              "    </tr>\n",
              "  </thead>\n",
              "  <tbody>\n",
              "    <tr>\n",
              "      <th>0</th>\n",
              "      <td>131</td>\n",
              "      <td>39</td>\n",
              "      <td>5785640</td>\n",
              "      <td>5878070</td>\n",
              "      <td>9</td>\n",
              "      <td>7</td>\n",
              "    </tr>\n",
              "    <tr>\n",
              "      <th>1</th>\n",
              "      <td>129</td>\n",
              "      <td>39</td>\n",
              "      <td>5785641</td>\n",
              "      <td>5878070</td>\n",
              "      <td>9</td>\n",
              "      <td>7</td>\n",
              "    </tr>\n",
              "    <tr>\n",
              "      <th>2</th>\n",
              "      <td>129</td>\n",
              "      <td>45</td>\n",
              "      <td>5785642</td>\n",
              "      <td>5878070</td>\n",
              "      <td>9</td>\n",
              "      <td>8</td>\n",
              "    </tr>\n",
              "    <tr>\n",
              "      <th>3</th>\n",
              "      <td>138</td>\n",
              "      <td>46</td>\n",
              "      <td>5785643</td>\n",
              "      <td>5878070</td>\n",
              "      <td>9</td>\n",
              "      <td>8</td>\n",
              "    </tr>\n",
              "    <tr>\n",
              "      <th>4</th>\n",
              "      <td>115</td>\n",
              "      <td>38</td>\n",
              "      <td>5787544</td>\n",
              "      <td>5878070</td>\n",
              "      <td>8</td>\n",
              "      <td>6</td>\n",
              "    </tr>\n",
              "    <tr>\n",
              "      <th>...</th>\n",
              "      <td>...</td>\n",
              "      <td>...</td>\n",
              "      <td>...</td>\n",
              "      <td>...</td>\n",
              "      <td>...</td>\n",
              "      <td>...</td>\n",
              "    </tr>\n",
              "    <tr>\n",
              "      <th>13226</th>\n",
              "      <td>123</td>\n",
              "      <td>58</td>\n",
              "      <td>6016698</td>\n",
              "      <td>5878070</td>\n",
              "      <td>9</td>\n",
              "      <td>9</td>\n",
              "    </tr>\n",
              "    <tr>\n",
              "      <th>13227</th>\n",
              "      <td>123</td>\n",
              "      <td>60</td>\n",
              "      <td>6016699</td>\n",
              "      <td>5878070</td>\n",
              "      <td>9</td>\n",
              "      <td>9</td>\n",
              "    </tr>\n",
              "    <tr>\n",
              "      <th>13228</th>\n",
              "      <td>-1</td>\n",
              "      <td>-1</td>\n",
              "      <td>6018252</td>\n",
              "      <td>-1</td>\n",
              "      <td>0</td>\n",
              "      <td>0</td>\n",
              "    </tr>\n",
              "    <tr>\n",
              "      <th>13229</th>\n",
              "      <td>123</td>\n",
              "      <td>59</td>\n",
              "      <td>6018253</td>\n",
              "      <td>5878070</td>\n",
              "      <td>9</td>\n",
              "      <td>9</td>\n",
              "    </tr>\n",
              "    <tr>\n",
              "      <th>13230</th>\n",
              "      <td>123</td>\n",
              "      <td>61</td>\n",
              "      <td>6018254</td>\n",
              "      <td>5878070</td>\n",
              "      <td>9</td>\n",
              "      <td>9</td>\n",
              "    </tr>\n",
              "  </tbody>\n",
              "</table>\n",
              "<p>13231 rows × 6 columns</p>\n",
              "</div>"
            ],
            "text/plain": [
              "       pt_r_tt  car_r_t  from_id    to_id  pt_r_tt_classes  car_r_t_classes\n",
              "0          131       39  5785640  5878070                9                7\n",
              "1          129       39  5785641  5878070                9                7\n",
              "2          129       45  5785642  5878070                9                8\n",
              "3          138       46  5785643  5878070                9                8\n",
              "4          115       38  5787544  5878070                8                6\n",
              "...        ...      ...      ...      ...              ...              ...\n",
              "13226      123       58  6016698  5878070                9                9\n",
              "13227      123       60  6016699  5878070                9                9\n",
              "13228       -1       -1  6018252       -1                0                0\n",
              "13229      123       59  6018253  5878070                9                9\n",
              "13230      123       61  6018254  5878070                9                9\n",
              "\n",
              "[13231 rows x 6 columns]"
            ]
          },
          "metadata": {
            "tags": []
          },
          "execution_count": 33
        }
      ]
    },
    {
      "cell_type": "code",
      "metadata": {
        "id": "g_otieOE1RJ0",
        "outputId": "faaa87f2-bd2b-4d3c-a72a-5115703eea5c",
        "colab": {
          "base_uri": "https://localhost:8080/",
          "height": 536
        }
      },
      "source": [
        "f, ax = plt.subplots(1, figsize=(16, 9))\n",
        "gdf.assign(cl=TT_Jumbo_Quantiles_pt_r_tt.yb).plot(column='cl', categorical=True, \\\n",
        "        k=10, cmap='coolwarm', linewidth=0.0, ax=ax, \\\n",
        "        edgecolor='white', legend=True)\n",
        "ax.set_title('BY PUBLIC TRANSPORT')\n",
        "ax.set_axis_off()\n",
        "plt.show()"
      ],
      "execution_count": 34,
      "outputs": [
        {
          "output_type": "display_data",
          "data": {
            "image/png": "[encoded data removed]",
            "text/plain": [
              "<Figure size 1152x648 with 1 Axes>"
            ]
          },
          "metadata": {
            "tags": [],
            "needs_background": "light"
          }
        }
      ]
    },
    {
      "cell_type": "code",
      "metadata": {
        "id": "lon5e7xx6K-Y",
        "outputId": "61912378-b9b0-40fa-d09d-6003071c218d",
        "colab": {
          "base_uri": "https://localhost:8080/",
          "height": 536
        }
      },
      "source": [
        "f, ax = plt.subplots(1, figsize=(16, 9))\n",
        "gdf.assign(cl=TT_Jumbo_Quantiles_car_r_t.yb).plot(column='cl', categorical=True, \\\n",
        "        k=10, cmap='coolwarm', linewidth=0.0, ax=ax, \\\n",
        "        edgecolor='white', legend=True)\n",
        "ax.set_title('BY PRIVATE CAR')\n",
        "ax.set_axis_off()\n",
        "plt.show()"
      ],
      "execution_count": 35,
      "outputs": [
        {
          "output_type": "display_data",
          "data": {
            "image/png": "[encoded data removed]",
            "text/plain": [
              "<Figure size 1152x648 with 1 Axes>"
            ]
          },
          "metadata": {
            "tags": [],
            "needs_background": "light"
          }
        }
      ]
    },
    {
      "cell_type": "code",
      "metadata": {
        "id": "UFKICS8g6p1g"
      },
      "source": [
        "TT_Dixi_Quantiles_pt_r_tt = mapclassify.Quantiles(TT_Dixi.pt_r_tt,k=10)\n",
        "TT_Dixi_Quantiles_car_r_t = mapclassify.Quantiles(TT_Dixi.car_r_t,k=10)"
      ],
      "execution_count": 36,
      "outputs": []
    },
    {
      "cell_type": "code",
      "metadata": {
        "id": "bS2zgk3d9icD"
      },
      "source": [
        "#classify the data into a new column in  GeoDataFrame\n",
        "TT_Dixi['pt_r_tt_classes'] = TT_Dixi[['pt_r_tt']].apply(classifier)\n",
        "TT_Dixi['car_r_t_classes'] = TT_Dixi[['car_r_t']].apply(classifier)"
      ],
      "execution_count": 37,
      "outputs": []
    },
    {
      "cell_type": "code",
      "metadata": {
        "id": "uHADRJ9C9mxW",
        "outputId": "23ae6dbb-8865-44a2-d1ac-882a066522f4",
        "colab": {
          "base_uri": "https://localhost:8080/",
          "height": 411
        }
      },
      "source": [
        "TT_Dixi"
      ],
      "execution_count": 38,
      "outputs": [
        {
          "output_type": "execute_result",
          "data": {
            "text/html": [
              "<div>\n",
              "<style scoped>\n",
              "    .dataframe tbody tr th:only-of-type {\n",
              "        vertical-align: middle;\n",
              "    }\n",
              "\n",
              "    .dataframe tbody tr th {\n",
              "        vertical-align: top;\n",
              "    }\n",
              "\n",
              "    .dataframe thead th {\n",
              "        text-align: right;\n",
              "    }\n",
              "</style>\n",
              "<table border=\"1\" class=\"dataframe\">\n",
              "  <thead>\n",
              "    <tr style=\"text-align: right;\">\n",
              "      <th></th>\n",
              "      <th>pt_r_tt</th>\n",
              "      <th>car_r_t</th>\n",
              "      <th>from_id</th>\n",
              "      <th>to_id</th>\n",
              "      <th>pt_r_tt_classes</th>\n",
              "      <th>car_r_t_classes</th>\n",
              "    </tr>\n",
              "  </thead>\n",
              "  <tbody>\n",
              "    <tr>\n",
              "      <th>0</th>\n",
              "      <td>134</td>\n",
              "      <td>45</td>\n",
              "      <td>5785640</td>\n",
              "      <td>5878087</td>\n",
              "      <td>9</td>\n",
              "      <td>7</td>\n",
              "    </tr>\n",
              "    <tr>\n",
              "      <th>1</th>\n",
              "      <td>130</td>\n",
              "      <td>45</td>\n",
              "      <td>5785641</td>\n",
              "      <td>5878087</td>\n",
              "      <td>9</td>\n",
              "      <td>7</td>\n",
              "    </tr>\n",
              "    <tr>\n",
              "      <th>2</th>\n",
              "      <td>130</td>\n",
              "      <td>52</td>\n",
              "      <td>5785642</td>\n",
              "      <td>5878087</td>\n",
              "      <td>9</td>\n",
              "      <td>8</td>\n",
              "    </tr>\n",
              "    <tr>\n",
              "      <th>3</th>\n",
              "      <td>140</td>\n",
              "      <td>48</td>\n",
              "      <td>5785643</td>\n",
              "      <td>5878087</td>\n",
              "      <td>9</td>\n",
              "      <td>8</td>\n",
              "    </tr>\n",
              "    <tr>\n",
              "      <th>4</th>\n",
              "      <td>118</td>\n",
              "      <td>44</td>\n",
              "      <td>5787544</td>\n",
              "      <td>5878087</td>\n",
              "      <td>9</td>\n",
              "      <td>7</td>\n",
              "    </tr>\n",
              "    <tr>\n",
              "      <th>...</th>\n",
              "      <td>...</td>\n",
              "      <td>...</td>\n",
              "      <td>...</td>\n",
              "      <td>...</td>\n",
              "      <td>...</td>\n",
              "      <td>...</td>\n",
              "    </tr>\n",
              "    <tr>\n",
              "      <th>13226</th>\n",
              "      <td>104</td>\n",
              "      <td>63</td>\n",
              "      <td>6016698</td>\n",
              "      <td>5878087</td>\n",
              "      <td>8</td>\n",
              "      <td>9</td>\n",
              "    </tr>\n",
              "    <tr>\n",
              "      <th>13227</th>\n",
              "      <td>104</td>\n",
              "      <td>65</td>\n",
              "      <td>6016699</td>\n",
              "      <td>5878087</td>\n",
              "      <td>8</td>\n",
              "      <td>9</td>\n",
              "    </tr>\n",
              "    <tr>\n",
              "      <th>13228</th>\n",
              "      <td>-1</td>\n",
              "      <td>-1</td>\n",
              "      <td>6018252</td>\n",
              "      <td>-1</td>\n",
              "      <td>0</td>\n",
              "      <td>0</td>\n",
              "    </tr>\n",
              "    <tr>\n",
              "      <th>13229</th>\n",
              "      <td>104</td>\n",
              "      <td>64</td>\n",
              "      <td>6018253</td>\n",
              "      <td>5878087</td>\n",
              "      <td>8</td>\n",
              "      <td>9</td>\n",
              "    </tr>\n",
              "    <tr>\n",
              "      <th>13230</th>\n",
              "      <td>104</td>\n",
              "      <td>66</td>\n",
              "      <td>6018254</td>\n",
              "      <td>5878087</td>\n",
              "      <td>8</td>\n",
              "      <td>9</td>\n",
              "    </tr>\n",
              "  </tbody>\n",
              "</table>\n",
              "<p>13231 rows × 6 columns</p>\n",
              "</div>"
            ],
            "text/plain": [
              "       pt_r_tt  car_r_t  from_id    to_id  pt_r_tt_classes  car_r_t_classes\n",
              "0          134       45  5785640  5878087                9                7\n",
              "1          130       45  5785641  5878087                9                7\n",
              "2          130       52  5785642  5878087                9                8\n",
              "3          140       48  5785643  5878087                9                8\n",
              "4          118       44  5787544  5878087                9                7\n",
              "...        ...      ...      ...      ...              ...              ...\n",
              "13226      104       63  6016698  5878087                8                9\n",
              "13227      104       65  6016699  5878087                8                9\n",
              "13228       -1       -1  6018252       -1                0                0\n",
              "13229      104       64  6018253  5878087                8                9\n",
              "13230      104       66  6018254  5878087                8                9\n",
              "\n",
              "[13231 rows x 6 columns]"
            ]
          },
          "metadata": {
            "tags": []
          },
          "execution_count": 38
        }
      ]
    },
    {
      "cell_type": "code",
      "metadata": {
        "id": "zchn7Bg16zRq",
        "outputId": "1b179857-99ea-4621-99d7-30676ef7f70b",
        "colab": {
          "base_uri": "https://localhost:8080/",
          "height": 536
        }
      },
      "source": [
        "f, ax = plt.subplots(1, figsize=(16, 9))\n",
        "gdf.assign(cl=TT_Dixi_Quantiles_pt_r_tt.yb).plot(column='cl', categorical=True, \\\n",
        "        k=10, cmap='coolwarm', linewidth=0.0, ax=ax, \\\n",
        "        edgecolor='white', legend=True)\n",
        "ax.set_title('BY PUBLIC TRANSPORT')\n",
        "ax.set_axis_off()\n",
        "plt.show()"
      ],
      "execution_count": 39,
      "outputs": [
        {
          "output_type": "display_data",
          "data": {
            "image/png": "[encoded data removed]",
            "text/plain": [
              "<Figure size 1152x648 with 1 Axes>"
            ]
          },
          "metadata": {
            "tags": [],
            "needs_background": "light"
          }
        }
      ]
    },
    {
      "cell_type": "code",
      "metadata": {
        "id": "hq6UdIfT6y1B",
        "outputId": "5b6c08fb-2666-448b-e2ea-12a054e11850",
        "colab": {
          "base_uri": "https://localhost:8080/",
          "height": 536
        }
      },
      "source": [
        "f, ax = plt.subplots(1, figsize=(16, 9))\n",
        "gdf.assign(cl=TT_Dixi_Quantiles_car_r_t.yb).plot(column='cl', categorical=True, \\\n",
        "        k=10, cmap='coolwarm', linewidth=0.0, ax=ax, \\\n",
        "        edgecolor='white', legend=True)\n",
        "ax.set_title('BY PRIVATE CAR')\n",
        "ax.set_axis_off()\n",
        "plt.show()"
      ],
      "execution_count": 40,
      "outputs": [
        {
          "output_type": "display_data",
          "data": {
            "image/png": "[encoded data removed]",
            "text/plain": [
              "<Figure size 1152x648 with 1 Axes>"
            ]
          },
          "metadata": {
            "tags": [],
            "needs_background": "light"
          }
        }
      ]
    },
    {
      "cell_type": "markdown",
      "metadata": {
        "id": "z-pgNdDcwwvN"
      },
      "source": [
        "## Задание №6. Calculate and visualize the dominance areas of shopping centers. 6 баллов."
      ]
    },
    {
      "cell_type": "markdown",
      "metadata": {
        "id": "q8vjaAjJwwvP"
      },
      "source": [
        "Please use data from previous task. The aim is to define the dominance area for each of those shopping centers based on travel time:"
      ]
    },
    {
      "cell_type": "markdown",
      "metadata": {
        "id": "CjYZtp6gwwvQ"
      },
      "source": [
        "1. Iterate over the accessibility files one by one\n",
        "2. Rename the travel time columns so that they can be identified\n",
        "   - you can include e.g. the `to_id` number as part of the column name (then the column name could be e.g. \"pt_r_tt_5987221\")\n",
        "3. Join those columns into `MetropAccess_YKR_grid_EurefFIN.shp` where __YKR_ID__ in the grid corresponds to `from_id` in the travel time data file. At the end you should have a GeoDataFrame with different columns show the travel times to different shopping centers.\n",
        "4. For each row find out the __minimum__ value of __all__ `pt_r_tt_XXXXXX` columns and insert that value into a new column called `min_time_pt`. You can now also parse the `to_id` value from the column name (i.e. parse the last number-series from the column text) that had the minimum travel time value and insert that value as a number into a column called `dominant_service`. In this, way are able to determine the \"closest\" shopping center for each grid cell and visualize it either by travel times or by using the __YKR_ID__ number of the shopping center (i.e. that number series that was used in column name).\n",
        "5. Visualize the travel times of our `min_time_pt` column using any classifier.\n",
        "6. Visualize also the values in `dominant_service` column (no need to use any specific classifier). Notice that the value should be a number. If it is still as text, you need to convert it first."
      ]
    },
    {
      "cell_type": "code",
      "metadata": {
        "id": "J0LtdgrowwvR"
      },
      "source": [
        "TT_Jumbo = TT_Jumbo.rename(columns={\"pt_r_tt\": \"pt_r_tt_5878070\"})\n",
        "TT_Dixi= TT_Dixi.rename(columns={\"pt_r_tt\": \"pt_r_tt_5878087\"})\n",
        "TT_Myyrmanni = TT_Myyrmanni.rename(columns={\"pt_r_tt\": \"pt_r_tt_5902043\"})\n",
        "TT_Itis = TT_Itis.rename(columns={\"pt_r_tt\": \"pt_r_tt_5944003\"})\n",
        "TT_Forum = TT_Forum.rename(columns={\"pt_r_tt\": \"pt_r_tt_5975373\"})\n",
        "TT_Iso_omena = TT_Iso_omena.rename(columns={\"pt_r_tt\": \"pt_r_tt_5978593\"})\n",
        "TT_Ruoholahti = TT_Ruoholahti.rename(columns={\"pt_r_tt\": \"pt_r_tt_5980260\"})"
      ],
      "execution_count": 41,
      "outputs": []
    },
    {
      "cell_type": "code",
      "metadata": {
        "id": "EcoFyJ2CB5LC"
      },
      "source": [
        "gdf = gdf.merge(TT_Jumbo[[\"pt_r_tt_5878070\", \"from_id\"]], left_on='YKR_ID', right_on='from_id').drop(['from_id'], axis=1)\n",
        "gdf = gdf.merge(TT_Dixi[[\"pt_r_tt_5878087\", \"from_id\"]], left_on='YKR_ID', right_on='from_id').drop(['from_id'], axis=1)\n",
        "gdf = gdf.merge(TT_Myyrmanni[[\"pt_r_tt_5902043\", \"from_id\"]], left_on='YKR_ID', right_on='from_id').drop(['from_id'], axis=1)\n",
        "gdf = gdf.merge(TT_Itis[[\"pt_r_tt_5944003\", \"from_id\"]], left_on='YKR_ID', right_on='from_id').drop(['from_id'], axis=1)\n",
        "gdf = gdf.merge(TT_Forum[[\"pt_r_tt_5975373\", \"from_id\"]], left_on='YKR_ID', right_on='from_id').drop(['from_id'], axis=1)\n",
        "gdf = gdf.merge(TT_Iso_omena[[\"pt_r_tt_5978593\",\"from_id\"]], left_on='YKR_ID', right_on='from_id').drop(['from_id'], axis=1)\n",
        "gdf = gdf.merge(TT_Ruoholahti[[\"pt_r_tt_5980260\", \"from_id\"]], left_on='YKR_ID', right_on='from_id').drop(['from_id'], axis=1)"
      ],
      "execution_count": 42,
      "outputs": []
    },
    {
      "cell_type": "code",
      "metadata": {
        "id": "Ql0ElClEFcsw"
      },
      "source": [
        "gdf = gdf.drop(np.where(gdf['pt_r_tt_5878070'] == -1)[0])"
      ],
      "execution_count": 43,
      "outputs": []
    },
    {
      "cell_type": "code",
      "metadata": {
        "id": "lMS2UNcmE9uA"
      },
      "source": [
        "gdf['min_time_pt'] = gdf[gdf.columns[-7:]].min(axis=1)"
      ],
      "execution_count": 44,
      "outputs": []
    },
    {
      "cell_type": "code",
      "metadata": {
        "id": "3q0i0evPG9Q1"
      },
      "source": [
        "gdf['dominant_service'] = gdf[gdf.columns[-8:-1]].values.argmin(axis=1)"
      ],
      "execution_count": 45,
      "outputs": []
    },
    {
      "cell_type": "code",
      "metadata": {
        "id": "aOQyiMr4F33M",
        "outputId": "8c18c3da-2864-470c-fb66-bafa62880e75",
        "colab": {
          "base_uri": "https://localhost:8080/",
          "height": 411
        }
      },
      "source": [
        "gdf[gdf.columns[-9:]]"
      ],
      "execution_count": 46,
      "outputs": [
        {
          "output_type": "execute_result",
          "data": {
            "text/html": [
              "<div>\n",
              "<style scoped>\n",
              "    .dataframe tbody tr th:only-of-type {\n",
              "        vertical-align: middle;\n",
              "    }\n",
              "\n",
              "    .dataframe tbody tr th {\n",
              "        vertical-align: top;\n",
              "    }\n",
              "\n",
              "    .dataframe thead th {\n",
              "        text-align: right;\n",
              "    }\n",
              "</style>\n",
              "<table border=\"1\" class=\"dataframe\">\n",
              "  <thead>\n",
              "    <tr style=\"text-align: right;\">\n",
              "      <th></th>\n",
              "      <th>pt_r_tt_5878070</th>\n",
              "      <th>pt_r_tt_5878087</th>\n",
              "      <th>pt_r_tt_5902043</th>\n",
              "      <th>pt_r_tt_5944003</th>\n",
              "      <th>pt_r_tt_5975373</th>\n",
              "      <th>pt_r_tt_5978593</th>\n",
              "      <th>pt_r_tt_5980260</th>\n",
              "      <th>min_time_pt</th>\n",
              "      <th>dominant_service</th>\n",
              "    </tr>\n",
              "  </thead>\n",
              "  <tbody>\n",
              "    <tr>\n",
              "      <th>0</th>\n",
              "      <td>131</td>\n",
              "      <td>134</td>\n",
              "      <td>121</td>\n",
              "      <td>157</td>\n",
              "      <td>137</td>\n",
              "      <td>166</td>\n",
              "      <td>147</td>\n",
              "      <td>121</td>\n",
              "      <td>2</td>\n",
              "    </tr>\n",
              "    <tr>\n",
              "      <th>1</th>\n",
              "      <td>129</td>\n",
              "      <td>130</td>\n",
              "      <td>115</td>\n",
              "      <td>154</td>\n",
              "      <td>134</td>\n",
              "      <td>164</td>\n",
              "      <td>142</td>\n",
              "      <td>115</td>\n",
              "      <td>2</td>\n",
              "    </tr>\n",
              "    <tr>\n",
              "      <th>2</th>\n",
              "      <td>129</td>\n",
              "      <td>130</td>\n",
              "      <td>115</td>\n",
              "      <td>154</td>\n",
              "      <td>134</td>\n",
              "      <td>164</td>\n",
              "      <td>142</td>\n",
              "      <td>115</td>\n",
              "      <td>2</td>\n",
              "    </tr>\n",
              "    <tr>\n",
              "      <th>3</th>\n",
              "      <td>138</td>\n",
              "      <td>140</td>\n",
              "      <td>126</td>\n",
              "      <td>163</td>\n",
              "      <td>144</td>\n",
              "      <td>174</td>\n",
              "      <td>153</td>\n",
              "      <td>126</td>\n",
              "      <td>2</td>\n",
              "    </tr>\n",
              "    <tr>\n",
              "      <th>4</th>\n",
              "      <td>115</td>\n",
              "      <td>118</td>\n",
              "      <td>103</td>\n",
              "      <td>142</td>\n",
              "      <td>121</td>\n",
              "      <td>150</td>\n",
              "      <td>130</td>\n",
              "      <td>103</td>\n",
              "      <td>2</td>\n",
              "    </tr>\n",
              "    <tr>\n",
              "      <th>...</th>\n",
              "      <td>...</td>\n",
              "      <td>...</td>\n",
              "      <td>...</td>\n",
              "      <td>...</td>\n",
              "      <td>...</td>\n",
              "      <td>...</td>\n",
              "      <td>...</td>\n",
              "      <td>...</td>\n",
              "      <td>...</td>\n",
              "    </tr>\n",
              "    <tr>\n",
              "      <th>13225</th>\n",
              "      <td>123</td>\n",
              "      <td>104</td>\n",
              "      <td>111</td>\n",
              "      <td>98</td>\n",
              "      <td>70</td>\n",
              "      <td>56</td>\n",
              "      <td>67</td>\n",
              "      <td>56</td>\n",
              "      <td>5</td>\n",
              "    </tr>\n",
              "    <tr>\n",
              "      <th>13226</th>\n",
              "      <td>123</td>\n",
              "      <td>104</td>\n",
              "      <td>111</td>\n",
              "      <td>98</td>\n",
              "      <td>70</td>\n",
              "      <td>56</td>\n",
              "      <td>67</td>\n",
              "      <td>56</td>\n",
              "      <td>5</td>\n",
              "    </tr>\n",
              "    <tr>\n",
              "      <th>13227</th>\n",
              "      <td>123</td>\n",
              "      <td>104</td>\n",
              "      <td>111</td>\n",
              "      <td>98</td>\n",
              "      <td>70</td>\n",
              "      <td>56</td>\n",
              "      <td>67</td>\n",
              "      <td>56</td>\n",
              "      <td>5</td>\n",
              "    </tr>\n",
              "    <tr>\n",
              "      <th>13229</th>\n",
              "      <td>123</td>\n",
              "      <td>104</td>\n",
              "      <td>111</td>\n",
              "      <td>98</td>\n",
              "      <td>70</td>\n",
              "      <td>56</td>\n",
              "      <td>67</td>\n",
              "      <td>56</td>\n",
              "      <td>5</td>\n",
              "    </tr>\n",
              "    <tr>\n",
              "      <th>13230</th>\n",
              "      <td>123</td>\n",
              "      <td>104</td>\n",
              "      <td>111</td>\n",
              "      <td>98</td>\n",
              "      <td>70</td>\n",
              "      <td>56</td>\n",
              "      <td>67</td>\n",
              "      <td>56</td>\n",
              "      <td>5</td>\n",
              "    </tr>\n",
              "  </tbody>\n",
              "</table>\n",
              "<p>13020 rows × 9 columns</p>\n",
              "</div>"
            ],
            "text/plain": [
              "       pt_r_tt_5878070  pt_r_tt_5878087  ...  min_time_pt  dominant_service\n",
              "0                  131              134  ...          121                 2\n",
              "1                  129              130  ...          115                 2\n",
              "2                  129              130  ...          115                 2\n",
              "3                  138              140  ...          126                 2\n",
              "4                  115              118  ...          103                 2\n",
              "...                ...              ...  ...          ...               ...\n",
              "13225              123              104  ...           56                 5\n",
              "13226              123              104  ...           56                 5\n",
              "13227              123              104  ...           56                 5\n",
              "13229              123              104  ...           56                 5\n",
              "13230              123              104  ...           56                 5\n",
              "\n",
              "[13020 rows x 9 columns]"
            ]
          },
          "metadata": {
            "tags": []
          },
          "execution_count": 46
        }
      ]
    },
    {
      "cell_type": "code",
      "metadata": {
        "id": "ecb8XjYQHscA"
      },
      "source": [
        "gdf['dominant_service'].replace([0,1,2,3,4,5,6],[5878070,5878087,5902043,5944003,5975373,5978593,5980260],inplace=True)\n",
        "gdf['dominant_service'] = gdf['dominant_service'].astype(int)"
      ],
      "execution_count": 47,
      "outputs": []
    },
    {
      "cell_type": "code",
      "metadata": {
        "id": "3t9NpMurIFdb",
        "outputId": "d8f475df-c4c9-4760-c8f4-1d5b4827f98e",
        "colab": {
          "base_uri": "https://localhost:8080/",
          "height": 411
        }
      },
      "source": [
        "gdf[gdf.columns[-9:]]"
      ],
      "execution_count": 48,
      "outputs": [
        {
          "output_type": "execute_result",
          "data": {
            "text/html": [
              "<div>\n",
              "<style scoped>\n",
              "    .dataframe tbody tr th:only-of-type {\n",
              "        vertical-align: middle;\n",
              "    }\n",
              "\n",
              "    .dataframe tbody tr th {\n",
              "        vertical-align: top;\n",
              "    }\n",
              "\n",
              "    .dataframe thead th {\n",
              "        text-align: right;\n",
              "    }\n",
              "</style>\n",
              "<table border=\"1\" class=\"dataframe\">\n",
              "  <thead>\n",
              "    <tr style=\"text-align: right;\">\n",
              "      <th></th>\n",
              "      <th>pt_r_tt_5878070</th>\n",
              "      <th>pt_r_tt_5878087</th>\n",
              "      <th>pt_r_tt_5902043</th>\n",
              "      <th>pt_r_tt_5944003</th>\n",
              "      <th>pt_r_tt_5975373</th>\n",
              "      <th>pt_r_tt_5978593</th>\n",
              "      <th>pt_r_tt_5980260</th>\n",
              "      <th>min_time_pt</th>\n",
              "      <th>dominant_service</th>\n",
              "    </tr>\n",
              "  </thead>\n",
              "  <tbody>\n",
              "    <tr>\n",
              "      <th>0</th>\n",
              "      <td>131</td>\n",
              "      <td>134</td>\n",
              "      <td>121</td>\n",
              "      <td>157</td>\n",
              "      <td>137</td>\n",
              "      <td>166</td>\n",
              "      <td>147</td>\n",
              "      <td>121</td>\n",
              "      <td>5902043</td>\n",
              "    </tr>\n",
              "    <tr>\n",
              "      <th>1</th>\n",
              "      <td>129</td>\n",
              "      <td>130</td>\n",
              "      <td>115</td>\n",
              "      <td>154</td>\n",
              "      <td>134</td>\n",
              "      <td>164</td>\n",
              "      <td>142</td>\n",
              "      <td>115</td>\n",
              "      <td>5902043</td>\n",
              "    </tr>\n",
              "    <tr>\n",
              "      <th>2</th>\n",
              "      <td>129</td>\n",
              "      <td>130</td>\n",
              "      <td>115</td>\n",
              "      <td>154</td>\n",
              "      <td>134</td>\n",
              "      <td>164</td>\n",
              "      <td>142</td>\n",
              "      <td>115</td>\n",
              "      <td>5902043</td>\n",
              "    </tr>\n",
              "    <tr>\n",
              "      <th>3</th>\n",
              "      <td>138</td>\n",
              "      <td>140</td>\n",
              "      <td>126</td>\n",
              "      <td>163</td>\n",
              "      <td>144</td>\n",
              "      <td>174</td>\n",
              "      <td>153</td>\n",
              "      <td>126</td>\n",
              "      <td>5902043</td>\n",
              "    </tr>\n",
              "    <tr>\n",
              "      <th>4</th>\n",
              "      <td>115</td>\n",
              "      <td>118</td>\n",
              "      <td>103</td>\n",
              "      <td>142</td>\n",
              "      <td>121</td>\n",
              "      <td>150</td>\n",
              "      <td>130</td>\n",
              "      <td>103</td>\n",
              "      <td>5902043</td>\n",
              "    </tr>\n",
              "    <tr>\n",
              "      <th>...</th>\n",
              "      <td>...</td>\n",
              "      <td>...</td>\n",
              "      <td>...</td>\n",
              "      <td>...</td>\n",
              "      <td>...</td>\n",
              "      <td>...</td>\n",
              "      <td>...</td>\n",
              "      <td>...</td>\n",
              "      <td>...</td>\n",
              "    </tr>\n",
              "    <tr>\n",
              "      <th>13225</th>\n",
              "      <td>123</td>\n",
              "      <td>104</td>\n",
              "      <td>111</td>\n",
              "      <td>98</td>\n",
              "      <td>70</td>\n",
              "      <td>56</td>\n",
              "      <td>67</td>\n",
              "      <td>56</td>\n",
              "      <td>5978593</td>\n",
              "    </tr>\n",
              "    <tr>\n",
              "      <th>13226</th>\n",
              "      <td>123</td>\n",
              "      <td>104</td>\n",
              "      <td>111</td>\n",
              "      <td>98</td>\n",
              "      <td>70</td>\n",
              "      <td>56</td>\n",
              "      <td>67</td>\n",
              "      <td>56</td>\n",
              "      <td>5978593</td>\n",
              "    </tr>\n",
              "    <tr>\n",
              "      <th>13227</th>\n",
              "      <td>123</td>\n",
              "      <td>104</td>\n",
              "      <td>111</td>\n",
              "      <td>98</td>\n",
              "      <td>70</td>\n",
              "      <td>56</td>\n",
              "      <td>67</td>\n",
              "      <td>56</td>\n",
              "      <td>5978593</td>\n",
              "    </tr>\n",
              "    <tr>\n",
              "      <th>13229</th>\n",
              "      <td>123</td>\n",
              "      <td>104</td>\n",
              "      <td>111</td>\n",
              "      <td>98</td>\n",
              "      <td>70</td>\n",
              "      <td>56</td>\n",
              "      <td>67</td>\n",
              "      <td>56</td>\n",
              "      <td>5978593</td>\n",
              "    </tr>\n",
              "    <tr>\n",
              "      <th>13230</th>\n",
              "      <td>123</td>\n",
              "      <td>104</td>\n",
              "      <td>111</td>\n",
              "      <td>98</td>\n",
              "      <td>70</td>\n",
              "      <td>56</td>\n",
              "      <td>67</td>\n",
              "      <td>56</td>\n",
              "      <td>5978593</td>\n",
              "    </tr>\n",
              "  </tbody>\n",
              "</table>\n",
              "<p>13020 rows × 9 columns</p>\n",
              "</div>"
            ],
            "text/plain": [
              "       pt_r_tt_5878070  pt_r_tt_5878087  ...  min_time_pt  dominant_service\n",
              "0                  131              134  ...          121           5902043\n",
              "1                  129              130  ...          115           5902043\n",
              "2                  129              130  ...          115           5902043\n",
              "3                  138              140  ...          126           5902043\n",
              "4                  115              118  ...          103           5902043\n",
              "...                ...              ...  ...          ...               ...\n",
              "13225              123              104  ...           56           5978593\n",
              "13226              123              104  ...           56           5978593\n",
              "13227              123              104  ...           56           5978593\n",
              "13229              123              104  ...           56           5978593\n",
              "13230              123              104  ...           56           5978593\n",
              "\n",
              "[13020 rows x 9 columns]"
            ]
          },
          "metadata": {
            "tags": []
          },
          "execution_count": 48
        }
      ]
    },
    {
      "cell_type": "code",
      "metadata": {
        "id": "4RCLOe8HI0Vk"
      },
      "source": [
        "min_time_pt_Quantiles = mapclassify.Quantiles(gdf.min_time_pt, k=10)"
      ],
      "execution_count": 49,
      "outputs": []
    },
    {
      "cell_type": "code",
      "metadata": {
        "id": "ZmFBIK7GJ6mg",
        "outputId": "f9486c22-fc03-4e01-cad0-4848beccac93",
        "colab": {
          "base_uri": "https://localhost:8080/",
          "height": 536
        }
      },
      "source": [
        "f, ax = plt.subplots(1, figsize=(16, 9))\n",
        "gdf.assign(cl=min_time_pt_Quantiles.yb).plot(column='cl', categorical=True, \\\n",
        "        k=10, cmap='coolwarm', linewidth=0.0, ax=ax, \\\n",
        "        edgecolor='white', legend=True)\n",
        "ax.set_title('MIN TIME PT')\n",
        "ax.set_axis_off()\n",
        "plt.show()"
      ],
      "execution_count": 50,
      "outputs": [
        {
          "output_type": "display_data",
          "data": {
            "image/png": "[encoded data removed]",
            "text/plain": [
              "<Figure size 1152x648 with 1 Axes>"
            ]
          },
          "metadata": {
            "tags": [],
            "needs_background": "light"
          }
        }
      ]
    },
    {
      "cell_type": "code",
      "metadata": {
        "id": "ZIW838ebKCXY",
        "outputId": "fe8ec271-518e-475e-fa55-16393e671b94",
        "colab": {
          "base_uri": "https://localhost:8080/",
          "height": 457
        }
      },
      "source": [
        "gdf.plot(column='dominant_service', figsize=(13, 7), cmap='gnuplot', linewidth=0.0,categorical=True,)"
      ],
      "execution_count": 51,
      "outputs": [
        {
          "output_type": "execute_result",
          "data": {
            "text/plain": [
              "<matplotlib.axes._subplots.AxesSubplot at 0x7f0f644503c8>"
            ]
          },
          "metadata": {
            "tags": []
          },
          "execution_count": 51
        },
        {
          "output_type": "display_data",
          "data": {
            "image/png": "[encoded data removed]",
            "text/plain": [
              "<Figure size 936x504 with 1 Axes>"
            ]
          },
          "metadata": {
            "tags": [],
            "needs_background": "light"
          }
        }
      ]
    }
  ]
}